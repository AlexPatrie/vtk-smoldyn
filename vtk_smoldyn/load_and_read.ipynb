{
 "cells": [
  {
   "cell_type": "code",
   "execution_count": 1,
   "id": "initial_id",
   "metadata": {
    "collapsed": true,
    "ExecuteTime": {
     "end_time": "2023-12-19T19:49:50.513279Z",
     "start_time": "2023-12-19T19:49:50.508985Z"
    }
   },
   "outputs": [],
   "source": [
    "import sys\n",
    "sys.path.insert(0, '..')"
   ]
  },
  {
   "cell_type": "code",
   "execution_count": 2,
   "outputs": [],
   "source": [
    "import numpy as np \n",
    "import pyvista as pv \n",
    "from vtk_smoldyn.generate_data import generate_molecule_coordinates, generate_molecules, get_axis\n",
    "from vtk_smoldyn.filepaths import minE_fp"
   ],
   "metadata": {
    "collapsed": false,
    "ExecuteTime": {
     "end_time": "2023-12-19T19:49:51.158450Z",
     "start_time": "2023-12-19T19:49:50.684492Z"
    }
   },
   "id": "2823dcd66890dba2"
  },
  {
   "cell_type": "code",
   "execution_count": 2,
   "outputs": [],
   "source": [],
   "metadata": {
    "collapsed": false,
    "ExecuteTime": {
     "end_time": "2023-12-19T19:49:51.161046Z",
     "start_time": "2023-12-19T19:49:51.158573Z"
    }
   },
   "id": "1dac3484ce3b08f9"
  },
  {
   "cell_type": "code",
   "execution_count": 3,
   "outputs": [
    {
     "name": "stderr",
     "output_type": "stream",
     "text": [
      "Libsmoldyn notification from smolRunSim: Simulation complete\n"
     ]
    },
    {
     "name": "stdout",
     "output_type": "stream",
     "text": [
      "--------------------------------------------------------------\n",
      "Running Smoldyn 2.72\n",
      "\n",
      "CONFIGURATION FILE\n",
      " Path: '/Users/alex/Desktop/uchc_work/experimental/vtk-smoldyn/vtk_smoldyn/models/minE_Andrews_052023/'\n",
      " Name: 'model.txt'\n",
      " Reading file: '/Users/alex/Desktop/uchc_work/experimental/vtk-smoldyn/vtk_smoldyn/models/minE_Andrews_052023/model.txt'\n",
      " Loaded file successfully\n",
      " setting up molecules\n",
      " setting up virtual boxes\n",
      " setting up compartments\n",
      " setting up reactions\n",
      " setting up surfaces\n",
      " setting up graphics\n",
      "\n",
      "SIMULATION PARAMETERS\n",
      " file: /Users/alex/Desktop/uchc_work/experimental/vtk-smoldyn/vtk_smoldyn/models/minE_Andrews_052023/model.txt\n",
      " starting clock time: Tue Dec 19 14:49:51 2023\n",
      " 3 dimensions\n",
      " Accuracy level: 5\n",
      " Random number seed: 1\n",
      " Time from 0 to 500 step 0.002\n",
      "\n",
      "GRAPHICS PARAMETERS\n",
      " No graphical output\n",
      "\n",
      "WALL PARAMETERS\n",
      " wall 0: dimension x, at -2\n",
      " wall 1: dimension x, at 2\n",
      " wall 2: dimension y, at -0.5\n",
      " wall 3: dimension y, at 0.5\n",
      " wall 4: dimension z, at -0.5\n",
      " wall 5: dimension z, at 0.5\n",
      " system volume: 4\n",
      " system corners: (-2,-0.5,-0.5) and (2,0.5,0.5)\n",
      "\n",
      "MOLECULE PARAMETERS\n",
      " 6 molecule lists:\n",
      "  list1, list2, list3, list4, list5, unassignedlist\n",
      " 4 species defined:\n",
      " MinD_ATP:\n",
      "  solution: difc=2.5, rms step=0.1, list=list1, number=0\n",
      "  front: difc=0.01, rms step=0.00632456, list=list2, number=4000\n",
      "  solution: color= 0,0,0.6, display size= 2\n",
      "  front: color= 0,0.6,0, display size= 4\n",
      " MinD_ADP:\n",
      "  solution: difc=2.5, rms step=0.1, list=list3, number=0\n",
      "  solution: color= 0.4,0.6,1, display size= 2\n",
      " MinE:\n",
      "  solution: difc=2.5, rms step=0.1, list=list4, number=1400\n",
      "  solution: color= 1,0,0, display size= 2\n",
      " MinDMinE:\n",
      "  front: difc=0.01, rms step=0.00632456, list=list5, number=0\n",
      "  front: color= 0.2,1,0.2, display size= 4\n",
      " Overall spatial resolution: 0.1\n",
      "\n",
      "SURFACE PARAMETERS\n",
      " Surface epsilon, margin, and neighbor distances: 2.22045e-14 2.22045e-14 2.22045e-15\n",
      " Molecule lists checked after diffusion: list1 list2 list3 list4 list5\n",
      " Molecule lists checked after reactions: list2 list5\n",
      " Molecule lists checked for surface-bound molecules: list2 list3 list4 list5 unassignedlist\n",
      " Surfaces defined: 1\n",
      "\n",
      " Surface: membrane\n",
      "  actions for molecules:\n",
      "   MinD_ATP(front) at front: transmit\n",
      "   MinD_ATP(solution) at back: reflect\n",
      "   MinD_ATP(front) at back: transmit\n",
      "   MinD_ADP(solution) at front: reflect\n",
      "   MinD_ADP(solution) at back: reflect\n",
      "   MinE(solution) at front: reflect\n",
      "   MinE(solution) at back: reflect\n",
      "   MinDMinE(front) at front: transmit\n",
      "   MinDMinE(front) at back: transmit\n",
      "  rates for molecules:\n",
      "    MinD_ATP(solution) solution -> front, requested rate=0.025, actual rate=0.0249991, prob=0.0012519\n",
      "  surface-bound molecules do not hop between neighboring panels upon collision\n",
      "  front color: 0 0 0 1\n",
      "  back color: 0 0 0 1\n",
      "  edge points: 1, polygon modes: edge edge\n",
      "  cylinder panels allocated: 1, defined: 1\n",
      "   cyl0: (-1.5,0,0) to (1.5,0,0), R=0.5, facing: in, draw: 20 10, area: 9.42478\n",
      "  hemisphere panels allocated: 3, defined: 2\n",
      "   hemi0: (-1.5,0,0), R=0.5, facing: in, opening: (1,0,0), draw: 20 5, area: 1.5708\n",
      "   hemi1: (1.5,0,0), R=0.5, facing: in, opening: (-1,0,0), draw: 20 5, area: 1.5708\n",
      "\n",
      "RUNTIME COMMAND INTERPRETER\n",
      " No output files\n",
      " No output data tables\n",
      " No commands\n",
      "\n",
      "VIRTUAL BOX PARAMETERS\n",
      " 1372 boxes\n",
      " Number of boxes on each side: 28 7 7\n",
      " Requested molecules per box: 4\n",
      " Box dimensions:  0.142857 0.142857 0.142857\n",
      " Box volumes: 0.00291545\n",
      " Molecules per box= 3.93586\n",
      "\n",
      "ORDER 0 REACTION PARAMETERS\n",
      " No reactions of order 0\n",
      "\n",
      "ORDER 1 REACTION PARAMETERS\n",
      " 2 reactions defined\n",
      " Reactive molecule lists: list3 list5\n",
      " Reactants, sorted by molecule species:\n",
      "  MinD_ADP : rxn4\n",
      "  MinDMinE : rxn3\n",
      " Reaction details:\n",
      "  Reaction rxn3: MinDMinE (front) -> MinD_ADP + MinE\n",
      "   requested and actual rate constants: 0.7, 0.7\n",
      "   characteristic time: 1.42857\n",
      "   conditional reaction probability per time step: 0.00139902\n",
      "   unbinding radius: 0\n",
      "  Reaction rxn4: MinD_ADP -> MinD_ATP\n",
      "   requested and actual rate constants: 1, 1\n",
      "   characteristic time: 1\n",
      "   conditional reaction probability per time step: 0.001998\n",
      "\n",
      "ORDER 2 REACTION PARAMETERS\n",
      " 3 reactions defined\n",
      " Reactive molecule lists: list2+list1 list5+list1 list1+list2 list4+list2 list2+list4 list1+list5\n",
      " Reactants, sorted by molecule species:\n",
      "  MinD_ATP+MinD_ATP : rxn1b\n",
      "  MinD_ATP+MinE : rxn2\n",
      "  MinD_ATP+MinDMinE : rxn1c\n",
      " Reaction details:\n",
      "  Reaction rxn1b: MinD_ATP + MinD_ATP (front) -> MinD_ATP (front) + MinD_ATP (front)\n",
      "   requested and actual rate constants: 0.0015, 0.00150008\n",
      "   characteristic time: 1.33326\n",
      "   binding radius: 0.0142114\n",
      "   unbinding radius: 0.01\n",
      "   product placement method and parameter: unbindrad 0.01\n",
      "   product MinD_ATP displacement: 0.005 0 0\n",
      "   product MinD_ATP displacement: -0.005 0 0\n",
      "   probability of geminate reverse reaction 'rxn1b' is 0.640142\n",
      "  Reaction rxn1c: MinD_ATP + MinDMinE (front) -> MinD_ATP (front) + MinDMinE (front)\n",
      "   requested and actual rate constants: 0.0015, 0.00150008\n",
      "   characteristic time: inf\n",
      "   binding radius: 0.0112758\n",
      "   unbinding radius: 0.01\n",
      "   product placement method and parameter: unbindrad 0.01\n",
      "   product MinD_ATP displacement: 0.005 0 0\n",
      "   product MinDMinE displacement: -0.005 0 0\n",
      "   probability of geminate reverse reaction 'rxn1c' is 0.467451\n",
      "  Reaction rxn2: MinE + MinD_ATP (front) -> MinDMinE (front)\n",
      "   requested and actual rate constants: 0.093, 0.093003\n",
      "   characteristic time: 0.0414733\n",
      "   binding radius: 0.0455085\n",
      "\n",
      "RULES:\n",
      " none\n",
      "\n",
      "COMPARTMENT PARAMETERS\n",
      " Compartments allocated: 5, compartments defined: 1\n",
      " Compartment: cell\n",
      "  1 bounding surfaces:\n",
      "   membrane\n",
      "  1 interior-defining points:\n",
      "   0: (0,0,0)\n",
      "  0 logically combined compartments\n",
      "  volume: 2.87778\n",
      "  1214 virtual boxes listed\n",
      "\n",
      "PARAMETER CHECK\n",
      " WARNING: reactive volume of MinE is 13.8177 % of total volume\n",
      " WARNING: total reactive volume is a large fraction of total volume\n",
      " No errors\n",
      " 2 total warnings\n",
      "\n",
      "SIMULATION PARAMETERS\n",
      " file: /Users/alex/Desktop/uchc_work/experimental/vtk-smoldyn/vtk_smoldyn/models/minE_Andrews_052023/model.txt\n",
      " starting clock time: Tue Dec 19 14:49:51 2023\n",
      " 3 dimensions\n",
      " Accuracy level: 5\n",
      " Random number seed: 1\n",
      " Time from 0 to 2 step 0.002\n",
      "\n",
      "GRAPHICS PARAMETERS\n",
      " No graphical output\n",
      "\n",
      "WALL PARAMETERS\n",
      " wall 0: dimension x, at -2\n",
      " wall 1: dimension x, at 2\n",
      " wall 2: dimension y, at -0.5\n",
      " wall 3: dimension y, at 0.5\n",
      " wall 4: dimension z, at -0.5\n",
      " wall 5: dimension z, at 0.5\n",
      " system volume: 4\n",
      " system corners: (-2,-0.5,-0.5) and (2,0.5,0.5)\n",
      "\n",
      "MOLECULE PARAMETERS\n",
      " 6 molecule lists:\n",
      "  list1, list2, list3, list4, list5, unassignedlist\n",
      " 4 species defined:\n",
      " MinD_ATP:\n",
      "  solution: difc=2.5, rms step=0.1, list=list1, number=0\n",
      "  front: difc=0.01, rms step=0.00632456, list=list2, number=4000\n",
      "  solution: color= 0,0,0.6, display size= 2\n",
      "  front: color= 0,0.6,0, display size= 4\n",
      " MinD_ADP:\n",
      "  solution: difc=2.5, rms step=0.1, list=list3, number=0\n",
      "  solution: color= 0.4,0.6,1, display size= 2\n",
      " MinE:\n",
      "  solution: difc=2.5, rms step=0.1, list=list4, number=1400\n",
      "  solution: color= 1,0,0, display size= 2\n",
      " MinDMinE:\n",
      "  front: difc=0.01, rms step=0.00632456, list=list5, number=0\n",
      "  front: color= 0.2,1,0.2, display size= 4\n",
      " Overall spatial resolution: 0.1\n",
      "\n",
      "SURFACE PARAMETERS\n",
      " Surface epsilon, margin, and neighbor distances: 2.22045e-14 2.22045e-14 2.22045e-15\n",
      " Molecule lists checked after diffusion: list1 list2 list3 list4 list5\n",
      " Molecule lists checked after reactions: list2 list5\n",
      " Molecule lists checked for surface-bound molecules: list2 list3 list4 list5 unassignedlist\n",
      " Surfaces defined: 1\n",
      "\n",
      " Surface: membrane\n",
      "  actions for molecules:\n",
      "   MinD_ATP(front) at front: transmit\n",
      "   MinD_ATP(solution) at back: reflect\n",
      "   MinD_ATP(front) at back: transmit\n",
      "   MinD_ADP(solution) at front: reflect\n",
      "   MinD_ADP(solution) at back: reflect\n",
      "   MinE(solution) at front: reflect\n",
      "   MinE(solution) at back: reflect\n",
      "   MinDMinE(front) at front: transmit\n",
      "   MinDMinE(front) at back: transmit\n",
      "  rates for molecules:\n",
      "    MinD_ATP(solution) solution -> front, requested rate=0.025, actual rate=0.0249991, prob=0.0012519\n",
      "  surface-bound molecules do not hop between neighboring panels upon collision\n",
      "  front color: 0 0 0 1\n",
      "  back color: 0 0 0 1\n",
      "  edge points: 1, polygon modes: edge edge\n",
      "  cylinder panels allocated: 1, defined: 1\n",
      "   cyl0: (-1.5,0,0) to (1.5,0,0), R=0.5, facing: in, draw: 20 10, area: 9.42478\n",
      "  hemisphere panels allocated: 3, defined: 2\n",
      "   hemi0: (-1.5,0,0), R=0.5, facing: in, opening: (1,0,0), draw: 20 5, area: 1.5708\n",
      "   hemi1: (1.5,0,0), R=0.5, facing: in, opening: (-1,0,0), draw: 20 5, area: 1.5708\n",
      "\n",
      "RUNTIME COMMAND INTERPRETER\n",
      " No output files\n",
      " Output data table names:\n",
      "  molecules\n",
      " Commands:\n",
      "  E 'listmols molecules' (observe)\n",
      "\n",
      "VIRTUAL BOX PARAMETERS\n",
      " 1372 boxes\n",
      " Number of boxes on each side: 28 7 7\n",
      " Requested molecules per box: 4\n",
      " Box dimensions:  0.142857 0.142857 0.142857\n",
      " Box volumes: 0.00291545\n",
      " Molecules per box= 3.93586\n",
      "\n",
      "ORDER 0 REACTION PARAMETERS\n",
      " No reactions of order 0\n",
      "\n",
      "ORDER 1 REACTION PARAMETERS\n",
      " 2 reactions defined\n",
      " Reactive molecule lists: list3 list5\n",
      " Reactants, sorted by molecule species:\n",
      "  MinD_ADP : rxn4\n",
      "  MinDMinE : rxn3\n",
      " Reaction details:\n",
      "  Reaction rxn3: MinDMinE (front) -> MinD_ADP + MinE\n",
      "   requested and actual rate constants: 0.7, 0.7\n",
      "   characteristic time: 1.42857\n",
      "   conditional reaction probability per time step: 0.00139902\n",
      "   unbinding radius: 0\n",
      "  Reaction rxn4: MinD_ADP -> MinD_ATP\n",
      "   requested and actual rate constants: 1, 1\n",
      "   characteristic time: 1\n",
      "   conditional reaction probability per time step: 0.001998\n",
      "\n",
      "ORDER 2 REACTION PARAMETERS\n",
      " 3 reactions defined\n",
      " Reactive molecule lists: list2+list1 list5+list1 list1+list2 list4+list2 list2+list4 list1+list5\n",
      " Reactants, sorted by molecule species:\n",
      "  MinD_ATP+MinD_ATP : rxn1b\n",
      "  MinD_ATP+MinE : rxn2\n",
      "  MinD_ATP+MinDMinE : rxn1c\n",
      " Reaction details:\n",
      "  Reaction rxn1b: MinD_ATP + MinD_ATP (front) -> MinD_ATP (front) + MinD_ATP (front)\n",
      "   requested and actual rate constants: 0.0015, 0.00150008\n",
      "   characteristic time: 1.33326\n",
      "   binding radius: 0.0142114\n",
      "   unbinding radius: 0.01\n",
      "   product placement method and parameter: unbindrad 0.01\n",
      "   product MinD_ATP displacement: 0.005 0 0\n",
      "   product MinD_ATP displacement: -0.005 0 0\n",
      "   probability of geminate reverse reaction 'rxn1b' is 0.640142\n",
      "  Reaction rxn1c: MinD_ATP + MinDMinE (front) -> MinD_ATP (front) + MinDMinE (front)\n",
      "   requested and actual rate constants: 0.0015, 0.00150008\n",
      "   characteristic time: inf\n",
      "   binding radius: 0.0112758\n",
      "   unbinding radius: 0.01\n",
      "   product placement method and parameter: unbindrad 0.01\n",
      "   product MinD_ATP displacement: 0.005 0 0\n",
      "   product MinDMinE displacement: -0.005 0 0\n",
      "   probability of geminate reverse reaction 'rxn1c' is 0.467451\n",
      "  Reaction rxn2: MinE + MinD_ATP (front) -> MinDMinE (front)\n",
      "   requested and actual rate constants: 0.093, 0.093003\n",
      "   characteristic time: 0.0414733\n",
      "   binding radius: 0.0455085\n",
      "\n",
      "RULES:\n",
      " none\n",
      "\n",
      "COMPARTMENT PARAMETERS\n",
      " Compartments allocated: 5, compartments defined: 1\n",
      " Compartment: cell\n",
      "  1 bounding surfaces:\n",
      "   membrane\n",
      "  1 interior-defining points:\n",
      "   0: (0,0,0)\n",
      "  0 logically combined compartments\n",
      "  volume: 2.87778\n",
      "  1214 virtual boxes listed\n",
      "\n",
      "PARAMETER CHECK\n",
      " WARNING: reactive volume of MinE is 13.8177 % of total volume\n",
      " WARNING: total reactive volume is a large fraction of total volume\n",
      " No errors\n",
      " 2 total warnings\n",
      "\n",
      "Simulating\n",
      "--------------------------------------------------------------\n",
      "Running Smoldyn 2.72\n",
      "\n",
      "CONFIGURATION FILE\n",
      " Path: '/Users/alex/Desktop/uchc_work/experimental/vtk-smoldyn/vtk_smoldyn/models/minE_Andrews_052023/'\n",
      " Name: 'model.txt'\n",
      " Reading file: '/Users/alex/Desktop/uchc_work/experimental/vtk-smoldyn/vtk_smoldyn/models/minE_Andrews_052023/model.txt'\n",
      " Loaded file successfully\n",
      " setting up molecules\n",
      " setting up virtual boxes\n",
      " setting up compartments\n",
      " setting up reactions\n",
      " setting up surfaces\n",
      " setting up graphics\n",
      "\n",
      "SIMULATION PARAMETERS\n",
      " file: /Users/alex/Desktop/uchc_work/experimental/vtk-smoldyn/vtk_smoldyn/models/minE_Andrews_052023/model.txt\n",
      " starting clock time: Tue Dec 19 14:49:54 2023\n",
      " 3 dimensions\n",
      " Accuracy level: 5\n",
      " Random number seed: 1\n",
      " Time from 0 to 500 step 0.002\n",
      "\n",
      "GRAPHICS PARAMETERS\n",
      " No graphical output\n",
      "\n",
      "WALL PARAMETERS\n",
      " wall 0: dimension x, at -2\n",
      " wall 1: dimension x, at 2\n",
      " wall 2: dimension y, at -0.5\n",
      " wall 3: dimension y, at 0.5\n",
      " wall 4: dimension z, at -0.5\n",
      " wall 5: dimension z, at 0.5\n",
      " system volume: 4\n",
      " system corners: (-2,-0.5,-0.5) and (2,0.5,0.5)\n",
      "\n",
      "MOLECULE PARAMETERS\n",
      " 6 molecule lists:\n",
      "  list1, list2, list3, list4, list5, unassignedlist\n",
      " 4 species defined:\n",
      " MinD_ATP:\n",
      "  solution: difc=2.5, rms step=0.1, list=list1, number=0\n",
      "  front: difc=0.01, rms step=0.00632456, list=list2, number=4000\n",
      "  solution: color= 0,0,0.6, display size= 2\n",
      "  front: color= 0,0.6,0, display size= 4\n",
      " MinD_ADP:\n",
      "  solution: difc=2.5, rms step=0.1, list=list3, number=0\n",
      "  solution: color= 0.4,0.6,1, display size= 2\n",
      " MinE:\n",
      "  solution: difc=2.5, rms step=0.1, list=list4, number=1400\n",
      "  solution: color= 1,0,0, display size= 2\n",
      " MinDMinE:\n",
      "  front: difc=0.01, rms step=0.00632456, list=list5, number=0\n",
      "  front: color= 0.2,1,0.2, display size= 4\n",
      " Overall spatial resolution: 0.1\n",
      "\n",
      "SURFACE PARAMETERS\n",
      " Surface epsilon, margin, and neighbor distances: 2.22045e-14 2.22045e-14 2.22045e-15\n",
      " Molecule lists checked after diffusion: list1 list2 list3 list4 list5\n",
      " Molecule lists checked after reactions: list2 list5\n",
      " Molecule lists checked for surface-bound molecules: list2 list3 list4 list5 unassignedlist\n",
      " Surfaces defined: 1\n",
      "\n",
      " Surface: membrane\n",
      "  actions for molecules:\n",
      "   MinD_ATP(front) at front: transmit\n",
      "   MinD_ATP(solution) at back: reflect\n",
      "   MinD_ATP(front) at back: transmit\n",
      "   MinD_ADP(solution) at front: reflect\n",
      "   MinD_ADP(solution) at back: reflect\n",
      "   MinE(solution) at front: reflect\n",
      "   MinE(solution) at back: reflect\n",
      "   MinDMinE(front) at front: transmit\n",
      "   MinDMinE(front) at back: transmit\n",
      "  rates for molecules:\n",
      "    MinD_ATP(solution) solution -> front, requested rate=0.025, actual rate=0.0249991, prob=0.0012519\n",
      "  surface-bound molecules do not hop between neighboring panels upon collision\n",
      "  front color: 0 0 0 1\n",
      "  back color: 0 0 0 1\n",
      "  edge points: 1, polygon modes: edge edge\n",
      "  cylinder panels allocated: 1, defined: 1\n",
      "   cyl0: (-1.5,0,0) to (1.5,0,0), R=0.5, facing: in, draw: 20 10, area: 9.42478\n",
      "  hemisphere panels allocated: 3, defined: 2\n",
      "   hemi0: (-1.5,0,0), R=0.5, facing: in, opening: (1,0,0), draw: 20 5, area: 1.5708\n",
      "   hemi1: (1.5,0,0), R=0.5, facing: in, opening: (-1,0,0), draw: 20 5, area: 1.5708\n",
      "\n",
      "RUNTIME COMMAND INTERPRETER\n",
      " No output files\n",
      " No output data tables\n",
      " No commands\n",
      "\n",
      "VIRTUAL BOX PARAMETERS\n",
      " 1372 boxes\n",
      " Number of boxes on each side: 28 7 7\n",
      " Requested molecules per box: 4\n",
      " Box dimensions:  0.142857 0.142857 0.142857\n",
      " Box volumes: 0.00291545\n",
      " Molecules per box= 3.93586\n",
      "\n",
      "ORDER 0 REACTION PARAMETERS\n",
      " No reactions of order 0\n",
      "\n",
      "ORDER 1 REACTION PARAMETERS\n",
      " 2 reactions defined\n",
      " Reactive molecule lists: list3 list5\n",
      " Reactants, sorted by molecule species:\n",
      "  MinD_ADP : rxn4\n",
      "  MinDMinE : rxn3\n",
      " Reaction details:\n",
      "  Reaction rxn3: MinDMinE (front) -> MinD_ADP + MinE\n",
      "   requested and actual rate constants: 0.7, 0.7\n",
      "   characteristic time: 1.42857\n",
      "   conditional reaction probability per time step: 0.00139902\n",
      "   unbinding radius: 0\n",
      "  Reaction rxn4: MinD_ADP -> MinD_ATP\n",
      "   requested and actual rate constants: 1, 1\n",
      "   characteristic time: 1\n",
      "   conditional reaction probability per time step: 0.001998\n",
      "\n",
      "ORDER 2 REACTION PARAMETERS\n",
      " 3 reactions defined\n",
      " Reactive molecule lists: list2+list1 list5+list1 list1+list2 list4+list2 list2+list4 list1+list5\n",
      " Reactants, sorted by molecule species:\n",
      "  MinD_ATP+MinD_ATP : rxn1b\n",
      "  MinD_ATP+MinE : rxn2\n",
      "  MinD_ATP+MinDMinE : rxn1c\n",
      " Reaction details:\n",
      "  Reaction rxn1b: MinD_ATP + MinD_ATP (front) -> MinD_ATP (front) + MinD_ATP (front)\n",
      "   requested and actual rate constants: 0.0015, 0.00150008\n",
      "   characteristic time: 1.33326\n",
      "   binding radius: 0.0142114\n",
      "   unbinding radius: 0.01\n",
      "   product placement method and parameter: unbindrad 0.01\n",
      "   product MinD_ATP displacement: 0.005 0 0\n",
      "   product MinD_ATP displacement: -0.005 0 0\n",
      "   probability of geminate reverse reaction 'rxn1b' is 0.640142\n",
      "  Reaction rxn1c: MinD_ATP + MinDMinE (front) -> MinD_ATP (front) + MinDMinE (front)\n",
      "   requested and actual rate constants: 0.0015, 0.00150008\n",
      "   characteristic time: inf\n",
      "   binding radius: 0.0112758\n",
      "   unbinding radius: 0.01\n",
      "   product placement method and parameter: unbindrad 0.01\n",
      "   product MinD_ATP displacement: 0.005 0 0\n",
      "   product MinDMinE displacement: -0.005 0 0\n",
      "   probability"
     ]
    },
    {
     "name": "stderr",
     "output_type": "stream",
     "text": [
      "Libsmoldyn notification from smolRunSim: Simulation complete\n"
     ]
    }
   ],
   "source": [
    "molecules = generate_molecules(minE_fp, 2)\n",
    "molecule_coords = generate_molecule_coordinates(minE_fp, 2)"
   ],
   "metadata": {
    "collapsed": false,
    "ExecuteTime": {
     "end_time": "2023-12-19T19:49:57.962006Z",
     "start_time": "2023-12-19T19:49:54.383935Z"
    }
   },
   "id": "a1ece0c796b3c998"
  },
  {
   "cell_type": "code",
   "execution_count": 4,
   "outputs": [],
   "source": [
    "from tempfile import NamedTemporaryFile as NTF"
   ],
   "metadata": {
    "collapsed": false,
    "ExecuteTime": {
     "end_time": "2023-12-19T19:49:57.964417Z",
     "start_time": "2023-12-19T19:49:57.962414Z"
    }
   },
   "id": "1a3e9442483d5417"
  },
  {
   "cell_type": "code",
   "execution_count": 5,
   "outputs": [
    {
     "data": {
      "text/plain": "'/var/folders/s3/2mt567997bj0_z5_19sd89500000gn/T/tmpzdz0hl56.vtp'"
     },
     "execution_count": 5,
     "metadata": {},
     "output_type": "execute_result"
    }
   ],
   "source": [
    "temp = NTF('w', suffix=\".vtp\")\n",
    "temp.name"
   ],
   "metadata": {
    "collapsed": false,
    "ExecuteTime": {
     "end_time": "2023-12-19T19:49:57.976854Z",
     "start_time": "2023-12-19T19:49:57.964750Z"
    }
   },
   "id": "5a20cc612e73f055"
  },
  {
   "cell_type": "code",
   "execution_count": 6,
   "outputs": [],
   "source": [
    "mesh = pv.PolyData(molecule_coords)"
   ],
   "metadata": {
    "collapsed": false,
    "ExecuteTime": {
     "end_time": "2023-12-19T19:49:58.543242Z",
     "start_time": "2023-12-19T19:49:58.514759Z"
    }
   },
   "id": "efd46872a4f93f7a"
  },
  {
   "cell_type": "code",
   "execution_count": 7,
   "outputs": [
    {
     "name": "stderr",
     "output_type": "stream",
     "text": [
      "/Users/alex/anaconda3/envs/vtk-smoldyn/lib/python3.10/site-packages/pyvista/jupyter/notebook.py:34: UserWarning: Failed to use notebook backend: \n",
      "\n",
      "No module named 'trame'\n",
      "\n",
      "Falling back to a static output.\n",
      "  warnings.warn(\n"
     ]
    },
    {
     "data": {
      "text/plain": "<PIL.Image.Image image mode=RGB size=1024x768>",
      "image/png": "[encoded data removed]",
      "image/jpeg": "[encoded data removed]"
     },
     "metadata": {},
     "output_type": "display_data"
    }
   ],
   "source": [
    "mesh.plot()"
   ],
   "metadata": {
    "collapsed": false,
    "ExecuteTime": {
     "end_time": "2023-12-19T19:49:58.928606Z",
     "start_time": "2023-12-19T19:49:58.541544Z"
    }
   },
   "id": "f90cf6c5c4a180c9"
  },
  {
   "cell_type": "code",
   "execution_count": 10,
   "outputs": [],
   "source": [
    "y = get_axis(molecule_coords, axis=1)\n",
    "z = get_axis(molecule_coords, axis=2)"
   ],
   "metadata": {
    "collapsed": false,
    "ExecuteTime": {
     "end_time": "2023-12-19T19:50:17.434870Z",
     "start_time": "2023-12-19T19:50:16.931855Z"
    }
   },
   "id": "54adb1ff63ca3207"
  },
  {
   "cell_type": "code",
   "execution_count": 10,
   "outputs": [
    {
     "ename": "ValueError",
     "evalue": "Input point array shapes must match exactly",
     "output_type": "error",
     "traceback": [
      "\u001B[0;31m---------------------------------------------------------------------------\u001B[0m",
      "\u001B[0;31mValueError\u001B[0m                                Traceback (most recent call last)",
      "Cell \u001B[0;32mIn[10], line 1\u001B[0m\n\u001B[0;32m----> 1\u001B[0m mesh_grid \u001B[38;5;241m=\u001B[39m \u001B[43mpv\u001B[49m\u001B[38;5;241;43m.\u001B[39;49m\u001B[43mStructuredGrid\u001B[49m\u001B[43m(\u001B[49m\n\u001B[1;32m      2\u001B[0m \u001B[43m    \u001B[49m\u001B[43mnp\u001B[49m\u001B[38;5;241;43m.\u001B[39;49m\u001B[43marray\u001B[49m\u001B[43m(\u001B[49m\u001B[43mmolecule_coords\u001B[49m\u001B[43m)\u001B[49m\u001B[43m,\u001B[49m\u001B[43m \u001B[49m\n\u001B[1;32m      3\u001B[0m \u001B[43m    \u001B[49m\u001B[43mnp\u001B[49m\u001B[38;5;241;43m.\u001B[39;49m\u001B[43marray\u001B[49m\u001B[43m(\u001B[49m\u001B[43mget_axis\u001B[49m\u001B[43m(\u001B[49m\u001B[43mmolecule_coords\u001B[49m\u001B[43m,\u001B[49m\u001B[43m \u001B[49m\u001B[43maxis\u001B[49m\u001B[38;5;241;43m=\u001B[39;49m\u001B[38;5;241;43m1\u001B[39;49m\u001B[43m)\u001B[49m\u001B[43m)\u001B[49m\u001B[43m,\u001B[49m\n\u001B[1;32m      4\u001B[0m \u001B[43m    \u001B[49m\u001B[43mnp\u001B[49m\u001B[38;5;241;43m.\u001B[39;49m\u001B[43marray\u001B[49m\u001B[43m(\u001B[49m\u001B[43mget_axis\u001B[49m\u001B[43m(\u001B[49m\u001B[43mmolecule_coords\u001B[49m\u001B[43m,\u001B[49m\u001B[43m \u001B[49m\u001B[43maxis\u001B[49m\u001B[38;5;241;43m=\u001B[39;49m\u001B[38;5;241;43m2\u001B[39;49m\u001B[43m)\u001B[49m\u001B[43m)\u001B[49m\n\u001B[1;32m      5\u001B[0m \u001B[43m)\u001B[49m\n",
      "File \u001B[0;32m~/anaconda3/envs/vtk-smoldyn/lib/python3.10/site-packages/pyvista/core/pointset.py:2179\u001B[0m, in \u001B[0;36mStructuredGrid.__init__\u001B[0;34m(self, uinput, y, z, deep, *args, **kwargs)\u001B[0m\n\u001B[1;32m   2173\u001B[0m     \u001B[38;5;28mself\u001B[39m\u001B[38;5;241m.\u001B[39m_from_file(uinput, \u001B[38;5;241m*\u001B[39m\u001B[38;5;241m*\u001B[39mkwargs)\n\u001B[1;32m   2174\u001B[0m \u001B[38;5;28;01melif\u001B[39;00m (\n\u001B[1;32m   2175\u001B[0m     \u001B[38;5;28misinstance\u001B[39m(uinput, np\u001B[38;5;241m.\u001B[39mndarray)\n\u001B[1;32m   2176\u001B[0m     \u001B[38;5;129;01mand\u001B[39;00m \u001B[38;5;28misinstance\u001B[39m(y, np\u001B[38;5;241m.\u001B[39mndarray)\n\u001B[1;32m   2177\u001B[0m     \u001B[38;5;129;01mand\u001B[39;00m \u001B[38;5;28misinstance\u001B[39m(z, np\u001B[38;5;241m.\u001B[39mndarray)\n\u001B[1;32m   2178\u001B[0m ):\n\u001B[0;32m-> 2179\u001B[0m     \u001B[38;5;28;43mself\u001B[39;49m\u001B[38;5;241;43m.\u001B[39;49m\u001B[43m_from_arrays\u001B[49m\u001B[43m(\u001B[49m\u001B[43muinput\u001B[49m\u001B[43m,\u001B[49m\u001B[43m \u001B[49m\u001B[43my\u001B[49m\u001B[43m,\u001B[49m\u001B[43m \u001B[49m\u001B[43mz\u001B[49m\u001B[43m,\u001B[49m\u001B[43m \u001B[49m\u001B[38;5;241;43m*\u001B[39;49m\u001B[38;5;241;43m*\u001B[39;49m\u001B[43mkwargs\u001B[49m\u001B[43m)\u001B[49m\n\u001B[1;32m   2180\u001B[0m \u001B[38;5;28;01melif\u001B[39;00m \u001B[38;5;28misinstance\u001B[39m(uinput, np\u001B[38;5;241m.\u001B[39mndarray) \u001B[38;5;129;01mand\u001B[39;00m y \u001B[38;5;129;01mis\u001B[39;00m \u001B[38;5;28;01mNone\u001B[39;00m \u001B[38;5;129;01mand\u001B[39;00m z \u001B[38;5;129;01mis\u001B[39;00m \u001B[38;5;28;01mNone\u001B[39;00m:\n\u001B[1;32m   2181\u001B[0m     \u001B[38;5;28mself\u001B[39m\u001B[38;5;241m.\u001B[39mpoints \u001B[38;5;241m=\u001B[39m uinput  \u001B[38;5;66;03m# type: ignore\u001B[39;00m\n",
      "File \u001B[0;32m~/anaconda3/envs/vtk-smoldyn/lib/python3.10/site-packages/pyvista/core/pointset.py:2225\u001B[0m, in \u001B[0;36mStructuredGrid._from_arrays\u001B[0;34m(self, x, y, z, force_float)\u001B[0m\n\u001B[1;32m   2204\u001B[0m \u001B[38;5;250m\u001B[39m\u001B[38;5;124;03m\"\"\"Create VTK structured grid directly from numpy arrays.\u001B[39;00m\n\u001B[1;32m   2205\u001B[0m \n\u001B[1;32m   2206\u001B[0m \u001B[38;5;124;03mParameters\u001B[39;00m\n\u001B[0;32m   (...)\u001B[0m\n\u001B[1;32m   2222\u001B[0m \n\u001B[1;32m   2223\u001B[0m \u001B[38;5;124;03m\"\"\"\u001B[39;00m\n\u001B[1;32m   2224\u001B[0m \u001B[38;5;28;01mif\u001B[39;00m \u001B[38;5;129;01mnot\u001B[39;00m (x\u001B[38;5;241m.\u001B[39mshape \u001B[38;5;241m==\u001B[39m y\u001B[38;5;241m.\u001B[39mshape \u001B[38;5;241m==\u001B[39m z\u001B[38;5;241m.\u001B[39mshape):\n\u001B[0;32m-> 2225\u001B[0m     \u001B[38;5;28;01mraise\u001B[39;00m \u001B[38;5;167;01mValueError\u001B[39;00m(\u001B[38;5;124m'\u001B[39m\u001B[38;5;124mInput point array shapes must match exactly\u001B[39m\u001B[38;5;124m'\u001B[39m)\n\u001B[1;32m   2227\u001B[0m \u001B[38;5;66;03m# make the output points the same precision as the input arrays\u001B[39;00m\n\u001B[1;32m   2228\u001B[0m points \u001B[38;5;241m=\u001B[39m np\u001B[38;5;241m.\u001B[39mempty((x\u001B[38;5;241m.\u001B[39msize, \u001B[38;5;241m3\u001B[39m), x\u001B[38;5;241m.\u001B[39mdtype)\n",
      "\u001B[0;31mValueError\u001B[0m: Input point array shapes must match exactly"
     ]
    }
   ],
   "source": [
    "mesh_grid = pv.StructuredGrid(\n",
    "    np.array(molecule_coords), \n",
    "    np.array(y),\n",
    "    np.array(z)\n",
    ")"
   ],
   "metadata": {
    "collapsed": false,
    "ExecuteTime": {
     "end_time": "2023-12-19T19:47:53.585432Z",
     "start_time": "2023-12-19T19:47:53.143276Z"
    }
   },
   "id": "24c344a985060703"
  },
  {
   "cell_type": "code",
   "execution_count": 11,
   "outputs": [
    {
     "data": {
      "text/plain": "((4044861,), (4044861,))"
     },
     "execution_count": 11,
     "metadata": {},
     "output_type": "execute_result"
    }
   ],
   "source": [
    "y.shape, z.shape"
   ],
   "metadata": {
    "collapsed": false,
    "ExecuteTime": {
     "end_time": "2023-12-19T19:50:20.441680Z",
     "start_time": "2023-12-19T19:50:20.437953Z"
    }
   },
   "id": "8f7014e20941b95c"
  },
  {
   "cell_type": "code",
   "execution_count": 12,
   "outputs": [
    {
     "ename": "AttributeError",
     "evalue": "'list' object has no attribute 'shape'",
     "output_type": "error",
     "traceback": [
      "\u001B[0;31m---------------------------------------------------------------------------\u001B[0m",
      "\u001B[0;31mAttributeError\u001B[0m                            Traceback (most recent call last)",
      "Cell \u001B[0;32mIn[12], line 1\u001B[0m\n\u001B[0;32m----> 1\u001B[0m \u001B[43mmolecule_coords\u001B[49m\u001B[38;5;241;43m.\u001B[39;49m\u001B[43mshape\u001B[49m\n",
      "\u001B[0;31mAttributeError\u001B[0m: 'list' object has no attribute 'shape'"
     ]
    }
   ],
   "source": [
    "molecule_coords.shape"
   ],
   "metadata": {
    "collapsed": false,
    "ExecuteTime": {
     "end_time": "2023-12-19T19:50:28.945829Z",
     "start_time": "2023-12-19T19:50:28.936254Z"
    }
   },
   "id": "cd3175c7ee537fe2"
  },
  {
   "cell_type": "code",
   "execution_count": null,
   "outputs": [],
   "source": [],
   "metadata": {
    "collapsed": false
   },
   "id": "52dba25c024a6a1"
  }
 ],
 "metadata": {
  "kernelspec": {
   "display_name": "Python 3",
   "language": "python",
   "name": "python3"
  },
  "language_info": {
   "codemirror_mode": {
    "name": "ipython",
    "version": 2
   },
   "file_extension": ".py",
   "mimetype": "text/x-python",
   "name": "python",
   "nbconvert_exporter": "python",
   "pygments_lexer": "ipython2",
   "version": "2.7.6"
  }
 },
 "nbformat": 4,
 "nbformat_minor": 5
}

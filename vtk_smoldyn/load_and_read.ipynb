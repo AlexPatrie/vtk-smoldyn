{
 "cells": [
  {
   "cell_type": "code",
   "execution_count": 3,
   "id": "initial_id",
   "metadata": {
    "collapsed": true,
    "ExecuteTime": {
     "end_time": "2023-12-19T19:15:36.181714Z",
     "start_time": "2023-12-19T19:15:36.175215Z"
    }
   },
   "outputs": [],
   "source": [
    "import sys\n",
    "sys.path.insert(0, '..')"
   ]
  },
  {
   "cell_type": "code",
   "execution_count": 4,
   "outputs": [],
   "source": [
    "import numpy as np \n",
    "import pyvista as pv \n",
    "from vtk_smoldyn.generate_data import generate_molecule_coordinates, generate_molecules\n",
    "from vtk_smoldyn.filepaths import minE_fp"
   ],
   "metadata": {
    "collapsed": false,
    "ExecuteTime": {
     "end_time": "2023-12-19T19:15:36.446722Z",
     "start_time": "2023-12-19T19:15:36.366660Z"
    }
   },
   "id": "2823dcd66890dba2"
  },
  {
   "cell_type": "code",
   "execution_count": null,
   "outputs": [],
   "source": [
    "molecules = generate_molecules(minE_fp, 2)\n",
    "molecule_coords = generate_molecule_coordinates(minE_fp, 2)"
   ],
   "metadata": {
    "collapsed": false
   },
   "id": "a1ece0c796b3c998"
  },
  {
   "cell_type": "code",
   "execution_count": null,
   "outputs": [],
   "source": [],
   "metadata": {
    "collapsed": false
   },
   "id": "1a3e9442483d5417"
  }
 ],
 "metadata": {
  "kernelspec": {
   "display_name": "Python 3",
   "language": "python",
   "name": "python3"
  },
  "language_info": {
   "codemirror_mode": {
    "name": "ipython",
    "version": 2
   },
   "file_extension": ".py",
   "mimetype": "text/x-python",
   "name": "python",
   "nbconvert_exporter": "python",
   "pygments_lexer": "ipython2",
   "version": "2.7.6"
  }
 },
 "nbformat": 4,
 "nbformat_minor": 5
}
